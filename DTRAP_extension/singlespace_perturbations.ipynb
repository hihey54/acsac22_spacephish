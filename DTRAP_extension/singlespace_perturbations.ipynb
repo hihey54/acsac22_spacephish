{
 "cells": [
  {
   "cell_type": "code",
   "execution_count": 4,
   "id": "505b301e",
   "metadata": {},
   "outputs": [],
   "source": [
    "\n",
    "from perturbation import *\n",
    "import joblib"
   ]
  },
  {
   "cell_type": "code",
   "execution_count": 2,
   "id": "ceb6d73d",
   "metadata": {},
   "outputs": [],
   "source": [
    "def readHtmlFile1(number):\n",
    "    path=\"../mlsec_folder/data/0\"+str(number)+'.html'\n",
    "    path1=\"../mlsec_folder/data/\"+str(number)+'.html'  \n",
    "    try:\n",
    "        with open(path,'r') as f:\n",
    "            HTML=f.read()\n",
    "    except:\n",
    "        with open(path1,'r') as f:\n",
    "            HTML=f.read()\n",
    "        print('change folder ')  \n",
    "    return HTML  "
   ]
  },
  {
   "cell_type": "markdown",
   "id": "f3902540",
   "metadata": {},
   "source": [
    "# refer to Table 4 in our DTRAP paper, iWA^r, mlsec"
   ]
  },
  {
   "cell_type": "code",
   "execution_count": 3,
   "id": "568398af",
   "metadata": {},
   "outputs": [
    {
     "name": "stdout",
     "output_type": "stream",
     "text": [
      "success: ./data/01_addHidPage.html\n"
     ]
    }
   ],
   "source": [
    "# addHidP\n",
    "\n",
    "for i in range(1,2):\n",
    "    html=readHtmlFile1(i)\n",
    "    out_file=\"./data/0\"+str(i)+\"_addHidPage.html\"\n",
    "    addHidP(html,out_file)"
   ]
  },
  {
   "cell_type": "markdown",
   "id": "6c5f1fa0",
   "metadata": {},
   "source": [
    "# refer to Table 4 in our DTRAP paper, eWA^r, mlsec"
   ]
  },
  {
   "cell_type": "code",
   "execution_count": 4,
   "id": "2a5e5c86",
   "metadata": {},
   "outputs": [
    {
     "name": "stdout",
     "output_type": "stream",
     "text": [
      "success ./data/01_addImgBot20.html\n"
     ]
    }
   ],
   "source": [
    "# addImgBot\n",
    "for i in range(1,2):\n",
    "    html=readHtmlFile1(i)\n",
    "    out_file=\"./data/0\"+str(i)+\"_addImgBot20.html\"\n",
    "    addImgBot(html,out_file,20)"
   ]
  },
  {
   "cell_type": "markdown",
   "id": "6825bc3d",
   "metadata": {},
   "source": [
    "# refer to Table 4 in our DTRAP paper, rWA^r, mlsec"
   ]
  },
  {
   "cell_type": "code",
   "execution_count": 5,
   "id": "4678652f",
   "metadata": {},
   "outputs": [
    {
     "name": "stdout",
     "output_type": "stream",
     "text": [
      "success ./data/01_modFntClr.html\n"
     ]
    }
   ],
   "source": [
    "#modFntClr\n",
    "for i in range(1,2):\n",
    "    html=readHtmlFile1(i)\n",
    "    out_file=\"./data/0\"+str(i)+\"_modFntClr.html\"\n",
    "    modFntClr(html,out_file)\n"
   ]
  },
  {
   "cell_type": "markdown",
   "id": "dc23b888",
   "metadata": {},
   "source": [
    "# refer to Table 4 in our DTRAP paper, PA^r, mlsec"
   ]
  },
  {
   "cell_type": "code",
   "execution_count": 6,
   "id": "76d88a7b",
   "metadata": {},
   "outputs": [
    {
     "name": "stdout",
     "output_type": "stream",
     "text": [
      "success ./data/01_delFrm.html\n"
     ]
    }
   ],
   "source": [
    "# delFrm\n",
    "for i in range(1,2):\n",
    "    html=readHtmlFile1(i)\n",
    "    out_file=\"./data/0\"+str(i)+\"_delFrm.html\"\n",
    "    delFrm(html,out_file)\n",
    "    \n"
   ]
  },
  {
   "cell_type": "markdown",
   "id": "d30195fc",
   "metadata": {},
   "source": [
    "# refer to Table 4 in our DTRAP paper, MA^r, mlsec"
   ]
  },
  {
   "cell_type": "code",
   "execution_count": 7,
   "id": "11216a0a",
   "metadata": {},
   "outputs": [
    {
     "name": "stdout",
     "output_type": "stream",
     "text": [
      "success ./data/01_hmg.html\n"
     ]
    }
   ],
   "source": [
    "# hmg \n",
    "for i in range(1,2):\n",
    "    html=readHtmlFile1(i)\n",
    "    out_file=\"./data/0\"+str(i)+\"_hmg.html\"\n",
    "    hmg(html,out_file)"
   ]
  },
  {
   "cell_type": "markdown",
   "id": "e81dadaa",
   "metadata": {},
   "source": [
    "# refer to section 8.1.2 of our DTRAP paper, WA^u, deltaphish"
   ]
  },
  {
   "cell_type": "code",
   "execution_count": 3,
   "id": "478f931c",
   "metadata": {},
   "outputs": [
    {
     "name": "stdout",
     "output_type": "stream",
     "text": [
      "url http://www.lumierebouteille.com/cs/5bb510e9ccf70ce244731efdcd855868/index/web/login.php?action=billing_login=true&_session;7a4b3a29ca0d7eda44eedb9fdd8ee5c77a4b3a29ca0d7eda44eedb9fdd8ee5c7 change to http://www.lumierebouteille.com/cs/5bb510e9ccf70ce247431efdcd5586 8/index/web/login.php?action=billing_login=true&_session;7a4b3a29ca0d7eda44eedb9fdd8ee5c77a4b3a29ca0d7eda44eedb9fdd8ee5c7\n"
     ]
    },
    {
     "data": {
      "text/plain": [
       "1"
      ]
     },
     "execution_count": 3,
     "metadata": {},
     "output_type": "execute_result"
    },
    {
     "data": {
      "text/plain": [
       "598"
      ]
     },
     "execution_count": 3,
     "metadata": {},
     "output_type": "execute_result"
    },
    {
     "data": {
      "text/plain": [
       "1"
      ]
     },
     "execution_count": 3,
     "metadata": {},
     "output_type": "execute_result"
    },
    {
     "name": "stdout",
     "output_type": "stream",
     "text": [
      "index success 0\n"
     ]
    }
   ],
   "source": [
    "# atkPth/sepWrd\n",
    "\n",
    "phish_sub_test_x=joblib.load('../data_folder/deltaphish/preprocessed/phish_sub_test_x_100.pkl')\n",
    "#print(phish_sub_test_x.index)\n",
    "modify_index=phish_sub_test_x.index \n",
    "ori_input_file=\"../data_folder/deltaphish/preprocessed/deltaphish_data.json\"\n",
    "#ori_data=read_json(ori_input_file) \n",
    "ori_json_data=open(ori_input_file).read()\n",
    "ori_f=json.loads(ori_json_data)\n",
    "out_file=\"./delta_url_atkPth.json\"\n",
    "#change_path\n",
    "\n",
    "for j in range(0,1): \n",
    "    #print('ori f',ori_f[i])\n",
    "    i=modify_index[j]\n",
    "    #print('i is',i)\n",
    "    ori_url=ori_f[i]['url'] \n",
    "    modify=atkPth(ori_url)\n",
    "#     modify=sepWrd(ori_url)\n",
    "    ori_f[i]['url']=modify \n",
    "    with open(out_file, 'a') as out:\n",
    "        out.write('\\n')\n",
    "        out.write(json.dumps(ori_f[i]))\n",
    "        out.write(',')\n",
    "    print('index success',j)"
   ]
  }
 ],
 "metadata": {
  "kernelspec": {
   "display_name": "Python 3 (ipykernel)",
   "language": "python",
   "name": "python3"
  },
  "language_info": {
   "codemirror_mode": {
    "name": "ipython",
    "version": 3
   },
   "file_extension": ".py",
   "mimetype": "text/x-python",
   "name": "python",
   "nbconvert_exporter": "python",
   "pygments_lexer": "ipython3",
   "version": "3.9.12"
  }
 },
 "nbformat": 4,
 "nbformat_minor": 5
}
