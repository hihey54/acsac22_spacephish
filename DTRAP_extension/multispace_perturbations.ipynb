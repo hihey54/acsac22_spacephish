{
 "cells": [
  {
   "cell_type": "code",
   "execution_count": 1,
   "id": "505b301e",
   "metadata": {},
   "outputs": [],
   "source": [
    "from perturbation import *\n",
    "import joblib"
   ]
  },
  {
   "cell_type": "code",
   "execution_count": 2,
   "id": "ceb6d73d",
   "metadata": {},
   "outputs": [],
   "source": [
    "def readHtmlFile_ori(number):\n",
    "    path=\"../mlsec_folder/data/0\"+str(number)+'.html'\n",
    "    path1=\"../mlsec_folder/data/\"+str(number)+'.html'  \n",
    "    try:\n",
    "        with open(path,'r') as f:\n",
    "            HTML=f.read()\n",
    "    except:\n",
    "        with open(path1,'r') as f:\n",
    "            HTML=f.read()\n",
    "        print('change folder ')  \n",
    "    return HTML  \n",
    "\n",
    "def readHtmlFile_per1(name):  \n",
    "    with open(name,'r') as f:\n",
    "        HTML=f.read()\n",
    "         \n",
    "    return HTML  "
   ]
  },
  {
   "cell_type": "markdown",
   "id": "f3902540",
   "metadata": {},
   "source": [
    "# refer to section 8.4.1 of our DTRAP paper, double-PsP, mlsec"
   ]
  },
  {
   "cell_type": "code",
   "execution_count": 3,
   "id": "568398af",
   "metadata": {},
   "outputs": [
    {
     "name": "stdout",
     "output_type": "stream",
     "text": [
      "success: ./data/01_delSpn.html\n",
      "success: ./data/01_delSpn_delTtl.html\n"
     ]
    }
   ],
   "source": [
    "# delSpn_delTtl\n",
    "\n",
    "for i in range(1,2):\n",
    "    html=readHtmlFile_ori(i)\n",
    "    out_file=\"./data/0\"+str(i)+\"_delSpn.html\"\n",
    "    delSpn(html,out_file)\n",
    "    html2=readHtmlFile_per1(out_file)\n",
    "    final_out=\"./data/0\"+str(i)+\"_delSpn_delTtl.html\"\n",
    "    delTtl(html2,final_out)"
   ]
  },
  {
   "cell_type": "markdown",
   "id": "6c5f1fa0",
   "metadata": {},
   "source": [
    "# refer to section 8.4.2  of our DTRAP paper, double-WsP, mlsec"
   ]
  },
  {
   "cell_type": "code",
   "execution_count": 4,
   "id": "2a5e5c86",
   "metadata": {},
   "outputs": [
    {
     "name": "stdout",
     "output_type": "stream",
     "text": [
      "success: ./data/01_htEncd.html\n",
      "success ./data/01_htEncd_replRet.html\n"
     ]
    }
   ],
   "source": [
    "# htEncd_replRet\n",
    "for i in range(1,2):\n",
    "    html=readHtmlFile_ori(i)\n",
    "    out_file=\"./data/0\"+str(i)+\"_htEncd.html\"\n",
    "    htEncd(html,out_file)\n",
    "    html2=readHtmlFile_per1(out_file)\n",
    "    final_out=\"./data/0\"+str(i)+\"_htEncd_replRet.html\"\n",
    "    replRet(html2,final_out)"
   ]
  },
  {
   "cell_type": "markdown",
   "id": "6825bc3d",
   "metadata": {},
   "source": [
    "# refer to section 8.4.3 of our DTRAP paper, PsP+WsP, mlsec"
   ]
  },
  {
   "cell_type": "code",
   "execution_count": 12,
   "id": "4678652f",
   "metadata": {},
   "outputs": [
    {
     "name": "stdout",
     "output_type": "stream",
     "text": [
      "no footer\n",
      "success: ./data/01_delFtr.html\n",
      "success ./data/01_delFtr_modBgClr.html\n"
     ]
    }
   ],
   "source": [
    "#delFtr_modBgClr\n",
    "for i in range(1,2):\n",
    "    html=readHtmlFile_ori(i)\n",
    "    out_file=\"./data/0\"+str(i)+\"_delFtr.html\"\n",
    "    delFtr(html,out_file)\n",
    "    html2=readHtmlFile_per1(out_file)\n",
    "    final_out=\"./data/0\"+str(i)+\"_delFtr_modBgClr.html\"\n",
    "    modBgClr(html2,final_out)\n"
   ]
  },
  {
   "cell_type": "markdown",
   "id": "dc23b888",
   "metadata": {},
   "source": [
    "# refer to section 8.4.4 of our DTRAP paper, PsP+MsP, mlsec"
   ]
  },
  {
   "cell_type": "code",
   "execution_count": 13,
   "id": "76d88a7b",
   "metadata": {},
   "outputs": [
    {
     "name": "stdout",
     "output_type": "stream",
     "text": [
      "no footer\n",
      "success: ./data/01_delFtr.html\n",
      "success: ./data/01_delFtr_brTgs.html\n"
     ]
    }
   ],
   "source": [
    "# delFtr_brTgs\n",
    "for i in range(1,2):\n",
    "    html=readHtmlFile_ori(i)\n",
    "    out_file=\"./data/0\"+str(i)+\"_delFtr.html\"\n",
    "    delFtr(html,out_file)\n",
    "    html2=readHtmlFile_per1(out_file)\n",
    "    final_out=\"./data/0\"+str(i)+\"_delFtr_brTgs.html\"\n",
    "    brTgs(html2,final_out)"
   ]
  }
 ],
 "metadata": {
  "kernelspec": {
   "display_name": "Python 3 (ipykernel)",
   "language": "python",
   "name": "python3"
  },
  "language_info": {
   "codemirror_mode": {
    "name": "ipython",
    "version": 3
   },
   "file_extension": ".py",
   "mimetype": "text/x-python",
   "name": "python",
   "nbconvert_exporter": "python",
   "pygments_lexer": "ipython3",
   "version": "3.9.12"
  }
 },
 "nbformat": 4,
 "nbformat_minor": 5
}
