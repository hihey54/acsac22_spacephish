{
 "cells": [
  {
   "cell_type": "code",
   "execution_count": 1,
   "id": "ff7aed2e",
   "metadata": {
    "pycharm": {
     "name": "#%%\n"
    }
   },
   "outputs": [
    {
     "name": "stdout",
     "output_type": "stream",
     "text": [
      "GPU is not available\n"
     ]
    }
   ],
   "source": [
    "from IPython.core.interactiveshell import InteractiveShell\n",
    "InteractiveShell.ast_node_interactivity='all'\n",
    "from ML import *\n",
    "import os\n",
    "os.environ[\"CUDA_VISIBLE_DEVICES\"] = \"-1\"\n",
    "print(\"GPU is\",\"avaliable\" if tf.config.experimental.list_physical_devices(\"GPU\") else \"not available\")"
   ]
  },
  {
   "cell_type": "code",
   "execution_count": 2,
   "outputs": [
    {
     "data": {
      "text/plain": "'\\nWe first import the necessary libraries and LOAD all the data for training and testing. Such data corresponds to the original samples from DeltaPhish (either benign or malicious) as well as the 100 phishing samples (not used in the training data) that we use as basis to create our adversarial examples.\\n\\nWe then develop a given leaner (i.e., a phishing detector) by using the train data and a Random Forest algorithm, and test it on the test data, computing the FPR and TPR shown in Table 3; we also compute the TPR on the subset of 100 samples used for our adversarial evaluations, which correspond to the results in Figure 4b (for the LR algorithm).\\n\\nWe then proceed to assess the robustness of the detector against ALL the 12 attacks considered in our paper, all of which use the 100 samples as basis. For WA and WA+, we already provide the preprocessed version. For PA, we use the samples created during the preprocessing phase. For MA, we create the samples at runtime.\\n'"
     },
     "execution_count": 2,
     "metadata": {},
     "output_type": "execute_result"
    }
   ],
   "source": [
    "'''\n",
    "We first import the necessary libraries and LOAD all the data for training and testing. Such data corresponds to the original samples from DeltaPhish (either benign or malicious) as well as the 100 phishing samples (not used in the training data) that we use as basis to create our adversarial examples.\n",
    "\n",
    "We then develop a given leaner (i.e., a phishing detector) by using the train data and a Random Forest algorithm, and test it on the test data, computing the FPR and TPR shown in Table 3; we also compute the TPR on the subset of 100 samples used for our adversarial evaluations, which correspond to the results in Figure 4b (for the LR algorithm).\n",
    "\n",
    "We then proceed to assess the robustness of the detector against ALL the 12 attacks considered in our paper, all of which use the 100 samples as basis. For WA and WA+, we already provide the preprocessed version. For PA, we use the samples created during the preprocessing phase. For MA, we create the samples at runtime.\n",
    "'''"
   ],
   "metadata": {
    "collapsed": false,
    "pycharm": {
     "name": "#%%\n"
    }
   }
  },
  {
   "cell_type": "code",
   "execution_count": 3,
   "id": "356c3d1c",
   "metadata": {
    "pycharm": {
     "name": "#%%\n"
    }
   },
   "outputs": [],
   "source": [
    "# load data and split test and train data\n",
    "json_file='../data_folder/deltaphish/preprocessed/normal/deltaphish_total_feature_modified.json'\n",
    "data_delta=data_load(json_file)\n",
    "# remove evasion dataset, then build new PWDs using remain data\n",
    "phish_sub_test_x=joblib.load('../data_folder/deltaphish/preprocessed/phish_sub_test_x_100.pkl')\n",
    "#print('phish_test_x index',phish_sub_test_x.index)#100\n",
    "#print('phish_sub_test_x shape',phish_sub_test_x.shape)\n",
    "data_delta_change=data_delta.copy()\n",
    "#get the 100 phish samples and add them to the test dataset\n",
    "phish_sub_test_later=data_delta_change.loc[phish_sub_test_x.index].copy()\n",
    "data_delta_change=data_delta_change.drop(phish_sub_test_x.index)# del those 100 samples\n",
    "\n",
    "train_random,test_random=train_test_split(data_delta_change,train_size=3200,test_size=700,shuffle=True,random_state=2)\n",
    "train_x0=train_random.iloc[:,0:58]\n",
    "train_y0=train_random.iloc[:,58]\n",
    " \n",
    "#test_later=pd.concat(test_random,phish_sub_test_later)\n",
    "frames =[test_random,phish_sub_test_later]\n",
    "test_later=pd.concat(frames)\n",
    "test_x0=test_later.iloc[:,0:58] \n",
    "test_y0=test_later.iloc[:,58] \n",
    "\n",
    "#use only html features\n",
    "train_html_x0=train_random.iloc[:,27:49]\n",
    "test_html_x0=test_later.iloc[:,27:49]\n",
    "\n",
    "#only url features\n",
    "train_url_x0=pd.concat([train_random.iloc[:,0:27],train_random.iloc[:,49:58]],axis=1)\n",
    "test_url_x0=pd.concat([test_later.iloc[:,0:27],test_later.iloc[:,49:58]],axis=1)\n",
    "train_y1=train_url_y0=train_html_y0=train_y0\n",
    "test_y1=test_url_y0=test_html_y0=test_y0\n",
    "\n",
    "benign_index=test_y0[test_y0==0].index.tolist()#\n",
    "phish_index=test_y0[test_y0==1].index.tolist()#\n",
    "\n",
    "#generate benign_test_x_y\n",
    "benign_test_x=test_x0.loc[benign_index,:]\n",
    "benign_test_y= test_y0.loc[benign_index]# \n",
    "benign_test_url_x=pd.concat([benign_test_x.iloc[:,0:27],benign_test_x.iloc[:,49:58]],axis=1)\n",
    "benign_test_html_x=benign_test_x.iloc[:,27:49]\n",
    "#100 phishing data already selected from test data to calculate the baseline recall\n",
    "phish_sub_test_y=test_y0[phish_sub_test_x.index]#100 phishing samples\n",
    "phish_sub_test_html_x=phish_sub_test_x.iloc[:,27:49]\n",
    "phish_sub_test_url_x=pd.concat([phish_sub_test_x.iloc[:,0:27],phish_sub_test_x.iloc[:,49:58]],axis=1)"
   ]
  },
  {
   "cell_type": "markdown",
   "id": "31d2cbb4",
   "metadata": {
    "pycharm": {
     "name": "#%% md\n"
    }
   },
   "source": [
    "# baseline performance- refer to Table 3, middle right cell"
   ]
  },
  {
   "cell_type": "code",
   "execution_count": 4,
   "id": "9a66b9d6",
   "metadata": {
    "pycharm": {
     "name": "#%%\n"
    }
   },
   "outputs": [
    {
     "name": "stdout",
     "output_type": "stream",
     "text": [
      "combine features, whole:\n",
      "recall 0.93\n",
      "url features, whole:\n",
      "recall 0.48\n",
      "html features, whole:\n",
      "recall 0.93\n",
      "rf_baseline_fpr-combine:\n",
      "fpr 0\n",
      "rf_baseline_fpr-url:\n",
      "fpr 0.020\n",
      "rf_baseline_fpr-html:\n",
      "fpr 0.003\n"
     ]
    }
   ],
   "source": [
    "model_rf_0=RandomForestClassifier(criterion='gini', max_depth=45, min_samples_split=3, n_estimators=120)\n",
    "model_rf_1=RandomForestClassifier(criterion='gini', max_depth=45, min_samples_split=3, n_estimators=120)\n",
    "model_rf_2=RandomForestClassifier(criterion='gini', max_depth=45, min_samples_split=3, n_estimators=120)\n",
    "\n",
    "\n",
    "model_rf_com,fpr_ave_com_rf,fpr_std_com_rf,recall_com_rf,re_std_com_rf,time1_com_rf,rfe_selector_rf_com=rfe_get_score(model_rf_0,31,train_x0,train_y0,test_x0,test_y0)\n",
    "model_rf_url,fpr_ave_url_rf,fpr_std_url_rf,recall_url_rf,re_std_url_rf,time1_url_rf,rfe_selector_rf_url=rfe_get_score(model_rf_1,25,train_url_x0,train_url_y0,test_url_x0,test_url_y0)\n",
    "model_rf_html,fpr_ave_html_rf,fpr_std_html_rf,recall_html_rf,re_std_html_rf,time1_html_rf,rfe_selector_rf_html=rfe_get_score(model_rf_2,13,train_html_x0,train_html_y0,test_html_x0,test_html_y0)\n",
    "\n",
    "print('combine features, whole:')\n",
    "rf_com_recall_whole=get_sub_base_rf_recall(model_rf_com,test_x0,test_y0,rfe_selector_rf_com)\n",
    "print('url features, whole:')\n",
    "rf_url_recall_whole=get_sub_base_rf_recall(model_rf_url,test_url_x0,test_url_y0,rfe_selector_rf_url)\n",
    "print('html features, whole:')\n",
    "rf_html_recall_whole=get_sub_base_rf_recall(model_rf_html,test_html_x0,test_html_y0,rfe_selector_rf_html)\n",
    " \n",
    "print('rf_baseline_fpr-combine:' )\n",
    "base_rf_fpr_com=get_base_rf_fpr(model_rf_com,benign_test_x,benign_test_y,rfe_selector_rf_com)\n",
    "print('rf_baseline_fpr-url:')\n",
    "base_rf_fpr_url=get_base_rf_fpr(model_rf_url,benign_test_url_x,benign_test_y,rfe_selector_rf_url)\n",
    "print('rf_baseline_fpr-html:')\n",
    "base_rf_fpr_html=get_base_rf_fpr(model_rf_html,benign_test_html_x,benign_test_y,rfe_selector_rf_html)\n"
   ]
  },
  {
   "cell_type": "markdown",
   "id": "638d3b9d",
   "metadata": {
    "pycharm": {
     "name": "#%% md\n"
    }
   },
   "source": [
    "# no-atk,refer to Fig 4b, the green bars in the middle subplot"
   ]
  },
  {
   "cell_type": "code",
   "execution_count": 5,
   "id": "6b124c9a",
   "metadata": {
    "pycharm": {
     "name": "#%%\n"
    }
   },
   "outputs": [
    {
     "name": "stdout",
     "output_type": "stream",
     "text": [
      "rf_no-atk_recall_combine:\n",
      "recall 0.94\n",
      "rf_no-atk_recall_url:\n",
      "recall 0.52\n",
      "rf_no-atk_recall_html:\n",
      "recall 0.95\n"
     ]
    }
   ],
   "source": [
    "print('rf_no-atk_recall_combine:')\n",
    "base_sub_rf_recall_com=get_sub_base_rf_recall(model_rf_com,phish_sub_test_x,phish_sub_test_y,rfe_selector_rf_com)\n",
    "print('rf_no-atk_recall_url:')\n",
    "base_sub_rf_recall_url=get_sub_base_rf_recall(model_rf_url,phish_sub_test_url_x,phish_sub_test_y,rfe_selector_rf_url)\n",
    "print('rf_no-atk_recall_html:')\n",
    "base_sub_rf_recall_html=get_sub_base_rf_recall(model_rf_html,phish_sub_test_html_x,phish_sub_test_y,rfe_selector_rf_html)\n",
    " "
   ]
  },
  {
   "cell_type": "markdown",
   "id": "3cf2c191",
   "metadata": {
    "pycharm": {
     "name": "#%% md\n"
    }
   },
   "source": [
    "# wa_u attack- refer to Fig 4b, the orange bars in the middle subplot"
   ]
  },
  {
   "cell_type": "code",
   "execution_count": 6,
   "id": "2989841b",
   "metadata": {
    "pycharm": {
     "name": "#%%\n"
    }
   },
   "outputs": [
    {
     "name": "stdout",
     "output_type": "stream",
     "text": [
      "rf_recall_combined_wa_u:\n",
      "recall 0.86\n",
      "rf_recall_url_wa_u:\n",
      "recall 0.00\n",
      "rf_recall_html_wa_u:\n",
      "recall 0.95\n"
     ]
    }
   ],
   "source": [
    "ad_url_problem_data=data_load(\"../data_folder/deltaphish/preprocessed/wa/wa_u/phish_sub_problem_space_url_shorten100.json\")\n",
    "ad_url_problem_test_x=ad_url_problem_data.iloc[:,0:58]\n",
    "ad_url_problem_test_y=ad_url_problem_data.iloc[:,58]\n",
    "#important to normalization \n",
    "ad_url_problem_test_url_x=pd.concat([ad_url_problem_data.iloc[:,0:27],ad_url_problem_data.iloc[:,49:58]],axis=1)\n",
    "ad_url_problem_test_html_x=ad_url_problem_data.iloc[:,27:49]\n",
    "#...............\n",
    "print('rf_recall_combined_wa_u:')\n",
    "base_sub_rf_recall_com=get_sub_base_rf_recall(model_rf_com,ad_url_problem_test_x,ad_url_problem_test_y,rfe_selector_rf_com)\n",
    "print('rf_recall_url_wa_u:')\n",
    "base_sub_rf_recall_url=get_sub_base_rf_recall(model_rf_url,ad_url_problem_test_url_x,ad_url_problem_test_y,rfe_selector_rf_url)\n",
    "print('rf_recall_html_wa_u:')\n",
    "base_sub_rf_recall_html=get_sub_base_rf_recall(model_rf_html,ad_url_problem_test_html_x,ad_url_problem_test_y,rfe_selector_rf_html)\n",
    "\n"
   ]
  },
  {
   "cell_type": "markdown",
   "id": "4e715bbc",
   "metadata": {
    "pycharm": {
     "name": "#%% md\n"
    }
   },
   "source": [
    "# wa_r attack- refer to Fig 4b, the firebrick bars in middle subplot"
   ]
  },
  {
   "cell_type": "code",
   "execution_count": 7,
   "id": "3f6c704e",
   "metadata": {
    "pycharm": {
     "name": "#%%\n"
    }
   },
   "outputs": [
    {
     "name": "stdout",
     "output_type": "stream",
     "text": [
      "rf_wa_r_recall_combined:\n",
      "recall 0.94\n",
      "rf_wa_r_recall_url:\n",
      "recall 0.53\n",
      "rf_wa_r_recall_html:\n",
      "recall 0.90\n"
     ]
    }
   ],
   "source": [
    "ad_problem_data=data_load(\"../data_folder/deltaphish/preprocessed/wa/wa_r/phish_sub_problem_space_html_add50internallinks.json\")#wa_u,wa_c\n",
    "ad_problem_test_x=ad_problem_data.iloc[:,0:58]\n",
    "ad_problem_test_y=ad_problem_data.iloc[:,58]\n",
    "\n",
    "ad_problem_test_url_x=pd.concat([ad_problem_data.iloc[:,0:27],ad_problem_data.iloc[:,49:58]],axis=1)\n",
    "ad_problem_test_html_x=ad_problem_data.iloc[:,27:49]\n",
    "\n",
    "print('rf_wa_r_recall_combined:')\n",
    "base_sub_rf_recall_com=get_sub_base_rf_recall(model_rf_com,ad_problem_test_x,ad_problem_test_y,rfe_selector_rf_com)\n",
    "print('rf_wa_r_recall_url:')\n",
    "base_sub_rf_recall_url=get_sub_base_rf_recall(model_rf_url,ad_problem_test_url_x,ad_problem_test_y,rfe_selector_rf_url)\n",
    "print('rf_wa_r_recall_html:')\n",
    "base_sub_rf_recall_html=get_sub_base_rf_recall(model_rf_html,ad_problem_test_html_x,ad_problem_test_y,rfe_selector_rf_html)\n"
   ]
  },
  {
   "cell_type": "markdown",
   "id": "aa17434d",
   "metadata": {
    "pycharm": {
     "name": "#%% md\n"
    }
   },
   "source": [
    "# wa_c attack- refer to Fig 4b, the darkred bars in middle subplot"
   ]
  },
  {
   "cell_type": "code",
   "execution_count": 8,
   "id": "106e09fe",
   "metadata": {
    "pycharm": {
     "name": "#%%\n"
    }
   },
   "outputs": [
    {
     "name": "stdout",
     "output_type": "stream",
     "text": [
      "rf_wa_c_recall_combined:\n",
      "recall 0.78\n",
      "rf_wa_c_recall-url:\n",
      "recall 0.00\n",
      "rf_wa_c_recall-html:\n",
      "recall 0.90\n"
     ]
    }
   ],
   "source": [
    "ad_problem_data=data_load(\"../data_folder/deltaphish/preprocessed/wa/wa_c/phish_sub_problem_space_html_add50internallinks_combined_shorten_url.json\")\n",
    "ad_problem_test_x=ad_problem_data.iloc[:,0:58]\n",
    "ad_problem_test_y=ad_problem_data.iloc[:,58]\n",
    " \n",
    "ad_problem_test_url_x=pd.concat([ad_problem_data.iloc[:,0:27],ad_problem_data.iloc[:,49:58]],axis=1)\n",
    "ad_problem_test_html_x=ad_problem_data.iloc[:,27:49]\n",
    "print('rf_wa_c_recall_combined:')\n",
    "base_sub_rf_recall_com=get_sub_base_rf_recall(model_rf_com,ad_problem_test_x,ad_problem_test_y,rfe_selector_rf_com)\n",
    "print('rf_wa_c_recall-url:')\n",
    "base_sub_rf_recall_url=get_sub_base_rf_recall(model_rf_url,ad_problem_test_url_x,ad_problem_test_y,rfe_selector_rf_url)\n",
    "print('rf_wa_c_recall-html:')\n",
    "base_sub_rf_recall_html=get_sub_base_rf_recall(model_rf_html,ad_problem_test_html_x,ad_problem_test_y,rfe_selector_rf_html)\n",
    "\n"
   ]
  },
  {
   "cell_type": "markdown",
   "id": "46371bce",
   "metadata": {
    "pycharm": {
     "name": "#%% md\n"
    }
   },
   "source": [
    "# wa+_u attack- refer to Fig 5b, middle row,  green bars of the leftmost group of bars"
   ]
  },
  {
   "cell_type": "code",
   "execution_count": 9,
   "id": "b48ffc8e",
   "metadata": {
    "pycharm": {
     "name": "#%%\n"
    }
   },
   "outputs": [
    {
     "name": "stdout",
     "output_type": "stream",
     "text": [
      "rf_wa+_u_recall_combined:\n",
      "recall 0.86\n",
      "rf_wa+_u_recall-url:\n",
      "recall 0.00\n",
      "rf_wa+_u_recall-html:\n",
      "recall 0.95\n"
     ]
    }
   ],
   "source": [
    "ad_problem_data=data_load(\"../data_folder/deltaphish/preprocessed/wa+/wa+_u/phish_sub_html_change_full_knowledge_change_again_later_only_url_shorten.json\")\n",
    "ad_problem_test_x=ad_problem_data.iloc[:,0:58]\n",
    "ad_problem_test_y=ad_problem_data.iloc[:,58]\n",
    "\n",
    "ad_problem_test_url_x=pd.concat([ad_problem_data.iloc[:,0:27],ad_problem_data.iloc[:,49:58]],axis=1)\n",
    "ad_problem_test_html_x=ad_problem_data.iloc[:,27:49]\n",
    "\n",
    "print('rf_wa+_u_recall_combined:')\n",
    "base_sub_rf_recall_com=get_sub_base_rf_recall(model_rf_com,ad_problem_test_x,ad_problem_test_y,rfe_selector_rf_com)\n",
    "print('rf_wa+_u_recall-url:')\n",
    "base_sub_rf_recall_url=get_sub_base_rf_recall(model_rf_url,ad_problem_test_url_x,ad_problem_test_y,rfe_selector_rf_url)\n",
    "print('rf_wa+_u_recall-html:')\n",
    "base_sub_rf_recall_html=get_sub_base_rf_recall(model_rf_html,ad_problem_test_html_x,ad_problem_test_y,rfe_selector_rf_html)\n",
    "\n"
   ]
  },
  {
   "cell_type": "markdown",
   "id": "750cfa86",
   "metadata": {
    "pycharm": {
     "name": "#%% md\n"
    }
   },
   "source": [
    "# wa+_r attack- refer to Fig 5b, middle row,  blue bars of the leftmost group of bars"
   ]
  },
  {
   "cell_type": "code",
   "execution_count": 10,
   "id": "c02133dd",
   "metadata": {
    "pycharm": {
     "name": "#%%\n"
    }
   },
   "outputs": [
    {
     "name": "stdout",
     "output_type": "stream",
     "text": [
      "rf_sub_baseline_recall_combined:\n",
      "recall 0.82\n",
      "rf_sub_baseline_recall-url:\n",
      "recall 0.53\n",
      "rf_sub_baseline_recall-html:\n",
      "recall 0.76\n"
     ]
    }
   ],
   "source": [
    "\n",
    "ad_problem_data=data_load(\"../data_folder/deltaphish/preprocessed/wa+/wa+_r/phish_sub_problem_space__full_onlyhtml_316.json\")#wa+_u,wa+_c\n",
    "\n",
    "ad_problem_test_x=ad_problem_data.iloc[:,0:58]\n",
    "ad_problem_test_y=ad_problem_data.iloc[:,58]\n",
    "\n",
    "ad_problem_test_url_x=pd.concat([ad_problem_data.iloc[:,0:27],ad_problem_data.iloc[:,49:58]],axis=1)\n",
    "ad_problem_test_html_x=ad_problem_data.iloc[:,27:49]\n",
    " \n",
    "print('rf_sub_baseline_recall_combined:')\n",
    "base_sub_rf_recall_com=get_sub_base_rf_recall(model_rf_com,ad_problem_test_x,ad_problem_test_y,rfe_selector_rf_com)\n",
    "print('rf_sub_baseline_recall-url:')\n",
    "base_sub_rf_recall_url=get_sub_base_rf_recall(model_rf_url,ad_problem_test_url_x,ad_problem_test_y,rfe_selector_rf_url)\n",
    "print('rf_sub_baseline_recall-html:')\n",
    "base_sub_rf_recall_html=get_sub_base_rf_recall(model_rf_html,ad_problem_test_html_x,ad_problem_test_y,rfe_selector_rf_html)\n"
   ]
  },
  {
   "cell_type": "markdown",
   "id": "dc8eff3c",
   "metadata": {
    "pycharm": {
     "name": "#%% md\n"
    }
   },
   "source": [
    "# wa+_c attack- refer to Fig 5b, middle row, red bars  of the leftmost group of bars"
   ]
  },
  {
   "cell_type": "code",
   "execution_count": 11,
   "id": "b8b947d5",
   "metadata": {
    "pycharm": {
     "name": "#%%\n"
    }
   },
   "outputs": [
    {
     "name": "stdout",
     "output_type": "stream",
     "text": [
      "rf_wa+_c_recall_combined:\n",
      "recall 0.89\n",
      "rf_wa+_c_recall-url:\n",
      "recall 0.00\n",
      "rf_wa+_c_recall-html:\n",
      "recall 0.93\n"
     ]
    }
   ],
   "source": [
    "ad_problem_data=data_load(\"../data_folder/deltaphish/preprocessed/wa+/wa+_c/phish_sub_problem_space_mix_url_html_316.json\")\n",
    "ad_problem_test_x=ad_problem_data.iloc[:,0:58]\n",
    "ad_problem_test_y=ad_problem_data.iloc[:,58]\n",
    "\n",
    "ad_problem_test_url_x=pd.concat([ad_problem_data.iloc[:,0:27],ad_problem_data.iloc[:,49:58]],axis=1)\n",
    "ad_problem_test_html_x=ad_problem_data.iloc[:,27:49]\n",
    "\n",
    "print('rf_wa+_c_recall_combined:')\n",
    "base_sub_rf_recall_com=get_sub_base_rf_recall(model_rf_com,ad_problem_test_x,ad_problem_test_y,rfe_selector_rf_com)\n",
    "print('rf_wa+_c_recall-url:')\n",
    "base_sub_rf_recall_url=get_sub_base_rf_recall(model_rf_url,ad_problem_test_url_x,ad_problem_test_y,rfe_selector_rf_url)\n",
    "print('rf_wa+_c_recall-html:')\n",
    "base_sub_rf_recall_html=get_sub_base_rf_recall(model_rf_html,ad_problem_test_html_x,ad_problem_test_y,rfe_selector_rf_html)\n"
   ]
  },
  {
   "cell_type": "markdown",
   "id": "630a7538",
   "metadata": {
    "pycharm": {
     "name": "#%% md\n"
    }
   },
   "source": [
    "# pa_u attack- refer to Fig 5b, middle row, green bars  in middle group of bars"
   ]
  },
  {
   "cell_type": "code",
   "execution_count": 12,
   "id": "c2a9d0c1",
   "metadata": {
    "pycharm": {
     "name": "#%%\n"
    }
   },
   "outputs": [
    {
     "name": "stdout",
     "output_type": "stream",
     "text": [
      "rf_pa_u_recall_com:\n",
      "recall 0.88\n",
      "rf_pa_u_recall_url:\n",
      "recall 0.28\n",
      "rf_pa_u_recall_html:\n",
      "recall 0.97\n"
     ]
    }
   ],
   "source": [
    "phish_sub_test_x_ch=joblib.load(\"../data_folder/deltaphish/preprocessed/phish_sub_test_x_ch_pa_u.pkl\")\n",
    "phish_sub_test_url_x_ch=pd.concat([phish_sub_test_x_ch.iloc[:,0:27],phish_sub_test_x_ch.iloc[:,49:58]],axis=1)\n",
    "phish_sub_test_html_x_ch=phish_sub_test_x_ch.iloc[:,27:49]\n",
    "\n",
    "print('rf_pa_u_recall_com:')\n",
    "base_sub_rf_recall_com=get_sub_base_rf_recall(model_rf_com,phish_sub_test_x_ch,phish_sub_test_y,rfe_selector_rf_com)\n",
    "print('rf_pa_u_recall_url:')\n",
    "base_sub_rf_recall_url=get_sub_base_rf_recall(model_rf_url,phish_sub_test_url_x_ch,phish_sub_test_y,rfe_selector_rf_url)\n",
    "print('rf_pa_u_recall_html:')\n",
    "base_sub_rf_recall_html=get_sub_base_rf_recall(model_rf_html,phish_sub_test_html_x_ch,phish_sub_test_y,rfe_selector_rf_html)\n",
    "\n",
    "\n"
   ]
  },
  {
   "cell_type": "markdown",
   "id": "da10066b",
   "metadata": {
    "pycharm": {
     "name": "#%% md\n"
    }
   },
   "source": [
    "# pa_r attack- refer to Fig 5b, middle row, blue bars in middle group of bars"
   ]
  },
  {
   "cell_type": "code",
   "execution_count": 13,
   "id": "9db00aa5",
   "metadata": {
    "pycharm": {
     "name": "#%%\n"
    }
   },
   "outputs": [
    {
     "name": "stdout",
     "output_type": "stream",
     "text": [
      "rf_pa_r_recall_com:\n",
      "recall 0.66\n",
      "rf_pa_r_recall_url:\n",
      "recall 0.52\n",
      "rf_pa_r_recall_html:\n",
      "recall 0.65\n"
     ]
    }
   ],
   "source": [
    "phish_sub_test_x_ch=joblib.load(\"../data_folder/deltaphish/preprocessed/phish_sub_test_x_ch_pa_r.pkl\")\n",
    "\n",
    "phish_sub_test_url_x_ch=pd.concat([phish_sub_test_x_ch.iloc[:,0:27],phish_sub_test_x_ch.iloc[:,49:58]],axis=1)\n",
    "phish_sub_test_html_x_ch=phish_sub_test_x_ch.iloc[:,27:49]\n",
    "print('rf_pa_r_recall_com:')\n",
    "base_sub_rf_recall_com=get_sub_base_rf_recall(model_rf_com,phish_sub_test_x_ch,phish_sub_test_y,rfe_selector_rf_com)\n",
    "print('rf_pa_r_recall_url:')\n",
    "base_sub_rf_recall_url=get_sub_base_rf_recall(model_rf_url,phish_sub_test_url_x_ch,phish_sub_test_y,rfe_selector_rf_url)\n",
    "print('rf_pa_r_recall_html:')\n",
    "base_sub_rf_recall_html=get_sub_base_rf_recall(model_rf_html,phish_sub_test_html_x_ch,phish_sub_test_y,rfe_selector_rf_html)\n",
    "\n"
   ]
  },
  {
   "cell_type": "markdown",
   "id": "ffd21098",
   "metadata": {
    "pycharm": {
     "name": "#%% md\n"
    }
   },
   "source": [
    "# pa_c attack- refer to Fig 5b, middle row, red bars in middle group of bars"
   ]
  },
  {
   "cell_type": "code",
   "execution_count": 14,
   "id": "94bc26e3",
   "metadata": {
    "pycharm": {
     "name": "#%%\n"
    }
   },
   "outputs": [
    {
     "name": "stdout",
     "output_type": "stream",
     "text": [
      "rf_pa_c_recall_com:\n",
      "recall 0.80\n",
      "rf_pa_c_recall_url:\n",
      "recall 0.28\n",
      "rf_pa_c_recall_html:\n",
      "recall 0.87\n"
     ]
    }
   ],
   "source": [
    "phish_sub_test_x_ch=joblib.load(\"../data_folder/deltaphish/preprocessed/phish_sub_test_x_ch_pa_c.pkl\")\n",
    "phish_sub_test_url_x_ch=pd.concat([phish_sub_test_x_ch.iloc[:,0:27],phish_sub_test_x_ch.iloc[:,49:58]],axis=1)\n",
    "phish_sub_test_html_x_ch=phish_sub_test_x_ch.iloc[:,27:49]\n",
    "\n",
    "print('rf_pa_c_recall_com:')\n",
    "base_sub_rf_recall_com=get_sub_base_rf_recall(model_rf_com,phish_sub_test_x_ch,phish_sub_test_y,rfe_selector_rf_com)\n",
    "print('rf_pa_c_recall_url:')\n",
    "base_sub_rf_recall_url=get_sub_base_rf_recall(model_rf_url,phish_sub_test_url_x_ch,phish_sub_test_y,rfe_selector_rf_url)\n",
    "print('rf_pa_c_recall_html:')\n",
    "base_sub_rf_recall_html=get_sub_base_rf_recall(model_rf_html,phish_sub_test_html_x_ch,phish_sub_test_y,rfe_selector_rf_html)\n"
   ]
  },
  {
   "cell_type": "markdown",
   "id": "77133199",
   "metadata": {
    "pycharm": {
     "name": "#%% md\n"
    }
   },
   "source": [
    "# ma_u attack- refer to Fig 5b, middle row, green bars  of the rightmost group of bars"
   ]
  },
  {
   "cell_type": "code",
   "execution_count": 15,
   "id": "ecda4123",
   "metadata": {
    "pycharm": {
     "name": "#%%\n"
    }
   },
   "outputs": [
    {
     "name": "stdout",
     "output_type": "stream",
     "text": [
      "rf_ma_u_recall_com:\n",
      "recall 0.89\n",
      "rf_ma_u_recall_url:\n",
      "recall 0.00\n",
      "rf_ma_u_recall_html:\n",
      "recall 0.95\n"
     ]
    }
   ],
   "source": [
    "phish_sub_test_x_ch=phish_sub_test_x.copy()\n",
    "phish_sub_test_x_ch['URL_length']=-1\n",
    "phish_sub_test_x_ch['URL_IP']=-1\n",
    "phish_sub_test_x_ch['URL_redirect']=-1\n",
    "phish_sub_test_x_ch['URL_shortener']=1\n",
    "phish_sub_test_x_ch['URL_subdomains']=-1\n",
    "phish_sub_test_x_ch['URL_at']=-1 \n",
    "phish_sub_test_x_ch['URL_dash']=-1  \n",
    "phish_sub_test_x_ch['URL_numberofCommonTerms']=-1 \n",
    "phish_sub_test_x_ch['URL_checkNumerical']=-1 \n",
    "phish_sub_test_x_ch['URL_checkPathExtend']=-1\n",
    "phish_sub_test_x_ch['URL_checkPunycode']=-1\n",
    "phish_sub_test_x_ch['URL_checkSensitiveWord']=0\n",
    "phish_sub_test_x_ch['URL_checkTLDinSub']=-1\n",
    "phish_sub_test_x_ch['URL_checkTLDinPath']=-1\n",
    "phish_sub_test_x_ch['URL_totalWordUrl']=0\n",
    " \n",
    "phish_sub_test_x_ch['URL_longestWordUrl']=0\n",
    "phish_sub_test_x_ch['URL_longestWordHost']=0\n",
    "phish_sub_test_x_ch['URL_longestWordPath']=0\n",
    "phish_sub_test_x_ch['URL_averageWordUrl']=1000\n",
    "phish_sub_test_x_ch['URL_averageWordHost']=0\n",
    "phish_sub_test_x_ch['URL_averageWordPath']=1000\n",
    "phish_sub_test_x_ch['REP_checkGI']=-1\n",
    "\n",
    "phish_sub_test_url_x_ch=pd.concat([phish_sub_test_x_ch.iloc[:,0:27],phish_sub_test_x_ch.iloc[:,49:58]],axis=1)\n",
    "phish_sub_test_html_x_ch=phish_sub_test_x_ch.iloc[:,27:49]\n",
    "\n",
    "print('rf_ma_u_recall_com:')\n",
    "base_sub_rf_recall_com=get_sub_base_rf_recall(model_rf_com,phish_sub_test_x_ch,phish_sub_test_y,rfe_selector_rf_com)\n",
    "print('rf_ma_u_recall_url:')\n",
    "base_sub_rf_recall_url=get_sub_base_rf_recall(model_rf_url,phish_sub_test_url_x_ch,phish_sub_test_y,rfe_selector_rf_url)\n",
    "print('rf_ma_u_recall_html:')\n",
    "base_sub_rf_recall_html=get_sub_base_rf_recall(model_rf_html,phish_sub_test_html_x_ch,phish_sub_test_y,rfe_selector_rf_html)\n",
    "\n"
   ]
  },
  {
   "cell_type": "markdown",
   "id": "b75edb60",
   "metadata": {
    "pycharm": {
     "name": "#%% md\n"
    }
   },
   "source": [
    "# ma_r attack- refer to Fig 5b, middle row, blue bars  in the rightmost group of bars"
   ]
  },
  {
   "cell_type": "code",
   "execution_count": 16,
   "id": "dc94b496",
   "metadata": {
    "pycharm": {
     "name": "#%%\n"
    }
   },
   "outputs": [
    {
     "name": "stdout",
     "output_type": "stream",
     "text": [
      "rf_ma_r_recall_com:\n",
      "recall 0.00\n",
      "rf_ma_r_recall_url:\n",
      "recall 0.52\n",
      "rf_ma_r_recall_html:\n",
      "recall 0.00\n"
     ]
    }
   ],
   "source": [
    "phish_sub_test_x_ch=phish_sub_test_x.copy()\n",
    "\n",
    "phish_sub_test_x_ch['HTML_Objects']=-1\n",
    "phish_sub_test_x_ch['HTML_metaScripts']=-1\n",
    "phish_sub_test_x_ch['HTML_FrequentDomain']=-1\n",
    "phish_sub_test_x_ch['HTML_Commonpage']=1#0#1\n",
    "phish_sub_test_x_ch['HTML_CommonPageRatioinFooter']=1#1\n",
    "phish_sub_test_x_ch['HTML_popUp']=-1\n",
    "phish_sub_test_x_ch['HTML_RightClick']=-1\n",
    "phish_sub_test_x_ch['HTML_DomainwithCopyright']=-1\n",
    "phish_sub_test_x_ch['HTML_HiddenInfo_div']=-1\n",
    "phish_sub_test_x_ch['HTML_nullLinksinWeb']=1\n",
    "phish_sub_test_x_ch['HTML_nullLinksinFooter']=0#1\n",
    "phish_sub_test_x_ch['HTML_BrokenLink']=1\n",
    "phish_sub_test_x_ch['HTML_LoginForm']=-1\n",
    "phish_sub_test_x_ch['HTML_HiddenInfo_input']=-1\n",
    "phish_sub_test_x_ch['HTML_TitleUrlBrand']=-1\n",
    "phish_sub_test_x_ch['HTML_favicon']=-1\n",
    "phish_sub_test_x_ch['HTML_statusBarMod']=-1\n",
    "phish_sub_test_x_ch['HTML_css']=-1\n",
    "phish_sub_test_x_ch['HTML_anchors']=-1\n",
    "\n",
    "phish_sub_test_url_x_ch=pd.concat([phish_sub_test_x_ch.iloc[:,0:27],phish_sub_test_x_ch.iloc[:,49:58]],axis=1)\n",
    "phish_sub_test_html_x_ch=phish_sub_test_x_ch.iloc[:,27:49]\n",
    "\n",
    "\n",
    "print('rf_ma_r_recall_com:')\n",
    "base_sub_rf_recall_com=get_sub_base_rf_recall(model_rf_com,phish_sub_test_x_ch,phish_sub_test_y,rfe_selector_rf_com)\n",
    "print('rf_ma_r_recall_url:')\n",
    "base_sub_rf_recall_url=get_sub_base_rf_recall(model_rf_url,phish_sub_test_url_x_ch,phish_sub_test_y,rfe_selector_rf_url)\n",
    "print('rf_ma_r_recall_html:')\n",
    "base_sub_rf_recall_html=get_sub_base_rf_recall(model_rf_html,phish_sub_test_html_x_ch,phish_sub_test_y,rfe_selector_rf_html)\n"
   ]
  },
  {
   "cell_type": "markdown",
   "id": "3a17260e",
   "metadata": {
    "pycharm": {
     "name": "#%% md\n"
    }
   },
   "source": [
    "# ma_c attack- refer to Fig 5b, middle row, red bars in the rightmost group of bars"
   ]
  },
  {
   "cell_type": "code",
   "execution_count": 17,
   "id": "94db31e1",
   "metadata": {
    "pycharm": {
     "name": "#%%\n"
    }
   },
   "outputs": [
    {
     "name": "stdout",
     "output_type": "stream",
     "text": [
      "rf_ma_c_recall_com:\n",
      "recall 0.00\n",
      "rf_ma_c_recall_url:\n",
      "recall 0.00\n",
      "rf_mc_c_recall_html:\n",
      "recall 0.00\n"
     ]
    }
   ],
   "source": [
    "phish_sub_test_x_ch=phish_sub_test_x.copy()\n",
    "phish_sub_test_x_ch['URL_length']=-1\n",
    "phish_sub_test_x_ch['URL_IP']=-1#single no change\n",
    "phish_sub_test_x_ch['URL_redirect']=-1#\n",
    "phish_sub_test_x_ch['URL_shortener']=1 #single no change\n",
    "phish_sub_test_x_ch['URL_subdomains']=-1\n",
    "phish_sub_test_x_ch['URL_at']=-1 \n",
    "phish_sub_test_x_ch['URL_dash']=-1  \n",
    "phish_sub_test_x_ch['URL_numberofCommonTerms']=-1 \n",
    "phish_sub_test_x_ch['URL_checkNumerical']=-1 #single no change\n",
    "phish_sub_test_x_ch['URL_checkPathExtend']=-1#single no change\n",
    "phish_sub_test_x_ch['URL_checkPunycode']=-1#single no change\n",
    "phish_sub_test_x_ch['URL_checkSensitiveWord']=0\n",
    "phish_sub_test_x_ch['URL_checkTLDinSub']=-1\n",
    "phish_sub_test_x_ch['URL_checkTLDinPath']=-1\n",
    "phish_sub_test_x_ch['URL_totalWordUrl']=0\n",
    "\n",
    "phish_sub_test_x_ch['URL_longestWordUrl']=0\n",
    "phish_sub_test_x_ch['URL_longestWordHost']=0 \n",
    "phish_sub_test_x_ch['URL_longestWordPath']=0\n",
    "phish_sub_test_x_ch['URL_averageWordUrl']=1000\n",
    "phish_sub_test_x_ch['URL_averageWordHost']=0\n",
    "phish_sub_test_x_ch['URL_averageWordPath']=1000\n",
    " \n",
    "phish_sub_test_x_ch['HTML_Objects']=-1\n",
    "phish_sub_test_x_ch['HTML_metaScripts']=-1\n",
    "phish_sub_test_x_ch['HTML_FrequentDomain']=-1\n",
    "phish_sub_test_x_ch['HTML_Commonpage']=1#0#1\n",
    "phish_sub_test_x_ch['HTML_CommonPageRatioinFooter']=1#1\n",
    " \n",
    "phish_sub_test_x_ch['HTML_popUp']=-1\n",
    "phish_sub_test_x_ch['HTML_RightClick']=-1\n",
    "phish_sub_test_x_ch['HTML_DomainwithCopyright']=-1\n",
    "phish_sub_test_x_ch['HTML_HiddenInfo_div']=-1\n",
    "phish_sub_test_x_ch['HTML_nullLinksinWeb']=1#1#0\n",
    "phish_sub_test_x_ch['HTML_nullLinksinFooter']=0#1\n",
    "phish_sub_test_x_ch['HTML_BrokenLink']=1\n",
    "phish_sub_test_x_ch['HTML_LoginForm']=-1\n",
    "phish_sub_test_x_ch['HTML_HiddenInfo_input']=-1\n",
    "phish_sub_test_x_ch['HTML_TitleUrlBrand']=-1\n",
    "phish_sub_test_x_ch['HTML_favicon']=-1\n",
    "phish_sub_test_x_ch['HTML_statusBarMod']=-1\n",
    "phish_sub_test_x_ch['HTML_css']=-1\n",
    "phish_sub_test_x_ch['HTML_anchors']=-1\n",
    "phish_sub_test_x_ch['REP_checkGI']=-1\n",
    "\n",
    "phish_sub_test_url_x_ch=pd.concat([phish_sub_test_x_ch.iloc[:,0:27],phish_sub_test_x_ch.iloc[:,49:58]],axis=1)\n",
    "phish_sub_test_html_x_ch=phish_sub_test_x_ch.iloc[:,27:49]\n",
    "\n",
    "print('rf_ma_c_recall_com:')\n",
    "base_sub_rf_recall_com=get_sub_base_rf_recall(model_rf_com,phish_sub_test_x_ch,phish_sub_test_y,rfe_selector_rf_com)\n",
    "print('rf_ma_c_recall_url:')\n",
    "base_sub_rf_recall_url=get_sub_base_rf_recall(model_rf_url,phish_sub_test_url_x_ch,phish_sub_test_y,rfe_selector_rf_url)\n",
    "print('rf_mc_c_recall_html:')\n",
    "base_sub_rf_recall_html=get_sub_base_rf_recall(model_rf_html,phish_sub_test_html_x_ch,phish_sub_test_y,rfe_selector_rf_html)\n",
    "\n"
   ]
  },
  {
   "cell_type": "code",
   "execution_count": 17,
   "outputs": [],
   "source": [],
   "metadata": {
    "collapsed": false,
    "pycharm": {
     "name": "#%%\n"
    }
   }
  },
  {
   "cell_type": "code",
   "execution_count": null,
   "outputs": [],
   "source": [],
   "metadata": {
    "collapsed": false,
    "pycharm": {
     "name": "#%%\n"
    }
   }
  }
 ],
 "metadata": {
  "kernelspec": {
   "display_name": "Python 3 (ipykernel)",
   "language": "python",
   "name": "python3"
  },
  "language_info": {
   "codemirror_mode": {
    "name": "ipython",
    "version": 3
   },
   "file_extension": ".py",
   "mimetype": "text/x-python",
   "name": "python",
   "nbconvert_exporter": "python",
   "pygments_lexer": "ipython3",
   "version": "3.9.12"
  }
 },
 "nbformat": 4,
 "nbformat_minor": 5
}