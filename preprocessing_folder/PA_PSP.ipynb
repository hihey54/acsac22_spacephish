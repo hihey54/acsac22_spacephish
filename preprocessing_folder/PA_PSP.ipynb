{
 "cells": [
  {
   "cell_type": "code",
   "execution_count": 1,
   "id": "59de26ca",
   "metadata": {
    "pycharm": {
     "name": "#%%\n"
    }
   },
   "outputs": [],
   "source": [
    "from IPython.core.interactiveshell import InteractiveShell\n",
    "InteractiveShell.ast_node_interactivity='all'\n",
    "import joblib"
   ]
  },
  {
   "cell_type": "code",
   "execution_count": 2,
   "id": "4d25c7bd",
   "metadata": {
    "pycharm": {
     "name": "#%%\n"
    }
   },
   "outputs": [
    {
     "data": {
      "text/plain": "['../data_folder/deltaphish/preprocessed/phish_sub_test_x_ch_pa_u.pkl']"
     },
     "execution_count": 2,
     "metadata": {},
     "output_type": "execute_result"
    },
    {
     "data": {
      "text/plain": "['../data_folder/deltaphish/preprocessed/phish_sub_test_x_ch_pa_r.pkl']"
     },
     "execution_count": 2,
     "metadata": {},
     "output_type": "execute_result"
    },
    {
     "data": {
      "text/plain": "['../data_folder/deltaphish/preprocessed/phish_sub_test_x_ch_pa_c.pkl']"
     },
     "execution_count": 2,
     "metadata": {},
     "output_type": "execute_result"
    }
   ],
   "source": [
    "\n",
    "\n",
    "# load base samples\n",
    "\n",
    "phish_sub_test_x=joblib.load('../data_folder/deltaphish/preprocessed/phish_sub_test_x_100.pkl')\n",
    "\n",
    "# manipulate at the preprocessing (assuming a backdoor that manipulates the feature if triggered)\n",
    "\n",
    "# PA_u\n",
    "phish_sub_test_x_ch=phish_sub_test_x.copy() \n",
    "\n",
    "phish_sub_test_x_ch['URL_length']=-1#\n",
    "phish_sub_test_x_ch['URL_IP']=-1#\n",
    "phish_sub_test_x_ch['URL_redirect']=-1\n",
    "phish_sub_test_x_ch['URL_shortener']=1 #single no change\n",
    "phish_sub_test_x_ch['URL_subdomains']=-1\n",
    "phish_sub_test_x_ch['URL_at']=-1 \n",
    "phish_sub_test_x_ch['URL_dash']=-1  \n",
    "phish_sub_test_x_ch['URL_numberofCommonTerms']=-1 \n",
    "phish_sub_test_x_ch['URL_checkNumerical']=-1 \n",
    "phish_sub_test_x_ch['URL_checkPathExtend']=-1\n",
    "phish_sub_test_x_ch['URL_checkPunycode']=-1\n",
    "\n",
    "phish_sub_test_x_ch['URL_checkSensitiveWord']=0\n",
    " \n",
    "phish_sub_test_x_ch['URL_checkTLDinSub']=-1\n",
    "phish_sub_test_x_ch['URL_checkTLDinPath']=-1#single no change\n",
    "phish_sub_test_x_ch['URL_checkStatisticRe']=1\n",
    "phish_sub_test_x_ch['HTML_Objects']=1\n",
    "phish_sub_test_x_ch['HTML_metaScripts']=1\n",
    "phish_sub_test_x_ch['HTML_FrequentDomain']=1\n",
    "phish_sub_test_x_ch['HTML_SFH']=1\n",
    "\n",
    "phish_sub_test_x_ch['HTML_DomainwithCopyright']=1\n",
    "phish_sub_test_x_ch['HTML_LoginForm']=1\n",
    "phish_sub_test_x_ch['HTML_TitleUrlBrand']=1\n",
    "\n",
    "phish_sub_test_x_ch['HTML_favicon']=1\n",
    "phish_sub_test_x_ch['HTML_css']=1\n",
    "\n",
    "phish_sub_test_x_ch['REP_checkGI']=1\n",
    "\n",
    "phish_sub_test_x_ch['REP_pageRank']=0#10\n",
    "\n",
    "phish_sub_test_x_ch['REP_DNS']=-1\n",
    "\n",
    "phish_sub_test_x_ch['REP_registrationLen']=-1\n",
    "phish_sub_test_x_ch['REP_Age']=-1\n",
    "\n",
    "phish_sub_test_x_ch['REP_ports']=0\n",
    "phish_sub_test_x_ch['REP_SSL']=-1\n",
    "\n",
    "# saving\n",
    "\n",
    "joblib.dump(phish_sub_test_x_ch,\"../data_folder/deltaphish/preprocessed/phish_sub_test_x_ch_pa_u.pkl\")\n",
    "\n",
    "# PA_r\n",
    "\n",
    "phish_sub_test_x_ch=phish_sub_test_x.copy()\n",
    "phish_sub_test_x_ch['HTML_Objects']=-1\n",
    "phish_sub_test_x_ch['HTML_metaScripts']=-1\n",
    "phish_sub_test_x_ch['HTML_FrequentDomain']=-1\n",
    "phish_sub_test_x_ch['HTML_SFH']=-1#(no)\n",
    "phish_sub_test_x_ch['HTML_nullLinksinFooter']=0\n",
    "phish_sub_test_x_ch['HTML_favicon']=-1\n",
    "phish_sub_test_x_ch['HTML_anchors']=-1\n",
    "phish_sub_test_x_ch['HTML_Commonpage']=1#0#1\n",
    "phish_sub_test_x_ch['HTML_CommonPageRatioinFooter']=1\n",
    "\n",
    "phish_sub_test_x_ch['HTML_HiddenInfo_input']=-1\n",
    "phish_sub_test_x_ch['HTML_css']=-1\n",
    "\n",
    "joblib.dump(phish_sub_test_x_ch,\"../data_folder/deltaphish/preprocessed/phish_sub_test_x_ch_pa_r.pkl\")\n",
    "\n",
    "\n",
    "# PA_c\n",
    "\n",
    "phish_sub_test_x_ch=phish_sub_test_x.copy()\n",
    "\n",
    "phish_sub_test_x_ch['URL_length']=-1#\n",
    "phish_sub_test_x_ch['URL_IP']=-1#\n",
    "phish_sub_test_x_ch['URL_redirect']=-1##single no change\n",
    "phish_sub_test_x_ch['URL_shortener']=1 #single no change\n",
    "phish_sub_test_x_ch['URL_subdomains']=-1\n",
    "phish_sub_test_x_ch['URL_at']=-1 \n",
    "phish_sub_test_x_ch['URL_dash']=-1  \n",
    "phish_sub_test_x_ch['URL_numberofCommonTerms']=-1 #single no change\n",
    "phish_sub_test_x_ch['URL_checkNumerical']=-1 #single no change\n",
    "phish_sub_test_x_ch['URL_checkPathExtend']=-1#single no change\n",
    "phish_sub_test_x_ch['URL_checkPunycode']=-1#single no change\n",
    "phish_sub_test_x_ch['URL_checkSensitiveWord']=0#8#8\n",
    "phish_sub_test_x_ch['URL_checkTLDinSub']=-1\n",
    "phish_sub_test_x_ch['URL_checkTLDinPath']=-1#single no change\n",
    "phish_sub_test_x_ch['URL_checkStatisticRe']=1\n",
    "phish_sub_test_x_ch['HTML_Objects']=1\n",
    "phish_sub_test_x_ch['HTML_metaScripts']=1\n",
    "phish_sub_test_x_ch['HTML_FrequentDomain']=1\n",
    "phish_sub_test_x_ch['HTML_SFH']=1\n",
    "phish_sub_test_x_ch['HTML_RightClick']=-1\n",
    "phish_sub_test_x_ch['HTML_DomainwithCopyright']=1\n",
    "phish_sub_test_x_ch['HTML_LoginForm']=1\n",
    "phish_sub_test_x_ch['HTML_TitleUrlBrand']=1\n",
    "phish_sub_test_x_ch['HTML_favicon']=1\n",
    "phish_sub_test_x_ch['HTML_css']=1\n",
    "phish_sub_test_x_ch['HTML_nullLinksinFooter']=0#1\n",
    "phish_sub_test_x_ch['HTML_HiddenInfo_input']=-1\n",
    "phish_sub_test_x_ch['HTML_anchors']=-1\n",
    "phish_sub_test_x_ch['REP_checkGI']=1\n",
    "phish_sub_test_x_ch['REP_pageRank']=0#8#10\n",
    "phish_sub_test_x_ch['REP_DNS']=-1\n",
    "phish_sub_test_x_ch['REP_registrationLen']=-1\n",
    "phish_sub_test_x_ch['REP_Age']=-1\n",
    "\n",
    "phish_sub_test_x_ch['REP_ports']=0\n",
    "phish_sub_test_x_ch['REP_SSL']=-1\n",
    "\n",
    "\n",
    "joblib.dump(phish_sub_test_x_ch,\"../data_folder/deltaphish/preprocessed/phish_sub_test_x_ch_pa_c.pkl\")\n",
    "\n"
   ]
  },
  {
   "cell_type": "code",
   "execution_count": null,
   "outputs": [],
   "source": [],
   "metadata": {
    "collapsed": false,
    "pycharm": {
     "name": "#%%\n"
    }
   }
  }
 ],
 "metadata": {
  "kernelspec": {
   "display_name": "Python 3 (ipykernel)",
   "language": "python",
   "name": "python3"
  },
  "language_info": {
   "codemirror_mode": {
    "name": "ipython",
    "version": 3
   },
   "file_extension": ".py",
   "mimetype": "text/x-python",
   "name": "python",
   "nbconvert_exporter": "python",
   "pygments_lexer": "ipython3",
   "version": "3.9.12"
  }
 },
 "nbformat": 4,
 "nbformat_minor": 5
}