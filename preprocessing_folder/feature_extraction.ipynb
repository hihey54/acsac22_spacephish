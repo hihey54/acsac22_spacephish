{
 "cells": [
  {
   "cell_type": "code",
   "execution_count": 1,
   "id": "590b20ac",
   "metadata": {
    "pycharm": {
     "name": "#%%\n"
    }
   },
   "outputs": [],
   "source": [
    "from IPython.core.interactiveshell import InteractiveShell\n",
    "InteractiveShell.ast_node_interactivity='all'\n",
    "from extractor import *\n"
   ]
  },
  {
   "cell_type": "markdown",
   "id": "278944ab",
   "metadata": {
    "pycharm": {
     "name": "#%% md\n"
    }
   },
   "source": [
    "# This part refers to the results shown in Table1 of the paper"
   ]
  },
  {
   "cell_type": "code",
   "execution_count": 2,
   "id": "922b3dfc",
   "metadata": {
    "pycharm": {
     "name": "#%%\n"
    }
   },
   "outputs": [
    {
     "name": "stdout",
     "output_type": "stream",
     "text": [
      "Successfully read: ../data_folder/deltaphish/raw/normal/deltaphish_data.json. Total entries: 6523\n",
      "html success 12\n",
      "html success 12\n"
     ]
    }
   ],
   "source": [
    "#import pandas as pd\n",
    "input_file=\"../data_folder/deltaphish/raw/normal/deltaphish_data.json\"\n",
    "json_data=readInputFile(input_file)\n",
    "\n",
    "output_file=\"./test_features.json\"\n",
    "for index in range(0,1):#\n",
    "    extractFeatures_test(index,json_data,output_file)\n",
    "    index=index+1\n"
   ]
  },
  {
   "cell_type": "code",
   "execution_count": null,
   "outputs": [],
   "source": [],
   "metadata": {
    "collapsed": false,
    "pycharm": {
     "name": "#%%\n"
    }
   }
  }
 ],
 "metadata": {
  "kernelspec": {
   "display_name": "Python 3 (ipykernel)",
   "language": "python",
   "name": "python3"
  },
  "language_info": {
   "codemirror_mode": {
    "name": "ipython",
    "version": 3
   },
   "file_extension": ".py",
   "mimetype": "text/x-python",
   "name": "python",
   "nbconvert_exporter": "python",
   "pygments_lexer": "ipython3",
   "version": "3.9.12"
  }
 },
 "nbformat": 4,
 "nbformat_minor": 5
}