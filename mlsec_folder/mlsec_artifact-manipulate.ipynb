{
 "cells": [
  {
   "cell_type": "code",
   "execution_count": 1,
   "metadata": {
    "pycharm": {
     "name": "#%%\n"
    }
   },
   "outputs": [],
   "source": [
    "import requests\n",
    "import time\n",
    "import datetime\n",
    "from os import listdir\n",
    "from os.path import isfile, join"
   ]
  },
  {
   "cell_type": "code",
   "execution_count": 2,
   "metadata": {},
   "outputs": [],
   "source": [
    "# request to API\n",
    "\n",
    "token = \"f06488eb3d0ff5bf0d6c2cb7fc68af33\" # get yours from www.mlsec.io\n",
    "url = 'https://api.mlsec.io/api/phish/submit_sample_all/?api_token='+token\n",
    "headers = {\n",
    "    'Content-Type': 'application/x-www-form-urlencoded',\n",
    "}"
   ]
  },
  {
   "cell_type": "code",
   "execution_count": 3,
   "metadata": {
    "pycharm": {
     "name": "#%%\n"
    }
   },
   "outputs": [],
   "source": [
    "def websiteAttacks_html(in_html,string,num):\n",
    "    ind=in_html.find('</body>')\n",
    "    content=\"\"\n",
    "    for i in range(0, num):\n",
    "        content=content+string\n",
    "    out_html=in_html[:ind]+content+in_html[ind:]\n",
    "    return out_html"
   ]
  },
  {
   "cell_type": "code",
   "execution_count": 4,
   "metadata": {
    "pycharm": {
     "name": "#%%\n"
    }
   },
   "outputs": [],
   "source": [
    "# parameters\n",
    "input_folder = \"./data/\"\n",
    "output_folder = \"./data/wsp/\""
   ]
  },
  {
   "cell_type": "code",
   "execution_count": 5,
   "metadata": {
    "pycharm": {
     "name": "#%%\n"
    }
   },
   "outputs": [],
   "source": [
    "# which webpage to modify\n",
    "webpage = \"03.html\"\n",
    "\n",
    "original_file = input_folder + webpage\n",
    "output_file = output_folder + webpage"
   ]
  },
  {
   "cell_type": "code",
   "execution_count": 6,
   "metadata": {
    "pycharm": {
     "name": "#%%\n"
    }
   },
   "outputs": [
    {
     "name": "stdout",
     "output_type": "stream",
     "text": [
      "{\n",
      "  \"n_models\": 8, \n",
      "  \"p_mod_00\": 0.891, \n",
      "  \"p_mod_01\": 0.811, \n",
      "  \"p_mod_02\": 0.891, \n",
      "  \"p_mod_03\": 0.811, \n",
      "  \"p_mod_04\": 0.806, \n",
      "  \"p_mod_05\": 0.741, \n",
      "  \"p_mod_06\": 0.806, \n",
      "  \"p_mod_07\": 0.741\n",
      "}\n",
      "\n"
     ]
    }
   ],
   "source": [
    "# TEST ORIGINAL\n",
    "\n",
    "with open(original_file, 'rb') as f:\n",
    "    original_data = f.read() #.replace(b'\\n', b'')\n",
    "original_response = requests.post(url, headers=headers, data=original_data)\n",
    "print(original_response.content.decode(\"utf-8\"))"
   ]
  },
  {
   "cell_type": "code",
   "execution_count": 7,
   "metadata": {
    "pycharm": {
     "name": "#%%\n"
    }
   },
   "outputs": [
    {
     "name": "stdout",
     "output_type": "stream",
     "text": [
      "Time to apply manipulation: 0.0s\n"
     ]
    }
   ],
   "source": [
    "# MANIPULATE\n",
    "\n",
    "num = 50\n",
    "string = \"<a href='#' style='display:none'> can not see</a>\\n\" # this is the one used in our experiments\n",
    "\n",
    "with open(original_file, \"r\", encoding=\"utf8\") as file:\n",
    "    # read html\n",
    "    in_html = file.read()\n",
    "    \n",
    "    # apply manipulation\n",
    "    start_time = time.time()\n",
    "    out_html = websiteAttacks_html(in_html, string, num)\n",
    "    total_time = time.time() - start_time\n",
    "    print(\"Time to apply manipulation: {}s\".format(total_time))\n",
    "    \n",
    "    # write adversarial html\n",
    "    with open(output_file, 'w', encoding=\"utf8\") as out: \n",
    "        out.write(out_html) "
   ]
  },
  {
   "cell_type": "code",
   "execution_count": 8,
   "metadata": {
    "pycharm": {
     "name": "#%%\n"
    }
   },
   "outputs": [
    {
     "name": "stdout",
     "output_type": "stream",
     "text": [
      "{\n",
      "  \"n_models\": 8, \n",
      "  \"p_mod_00\": 0.426, \n",
      "  \"p_mod_01\": 0.794, \n",
      "  \"p_mod_02\": 0.426, \n",
      "  \"p_mod_03\": 0.794, \n",
      "  \"p_mod_04\": 0.864, \n",
      "  \"p_mod_05\": 0.774, \n",
      "  \"p_mod_06\": 0.794, \n",
      "  \"p_mod_07\": 0.741\n",
      "}\n",
      "\n"
     ]
    }
   ],
   "source": [
    "# TEST ADVERSARIAL\n",
    "\n",
    "with open(output_file, 'rb') as f:\n",
    "    adversarial_data = f.read() #.replace(b'\\n', b'')\n",
    "adversarial_response = requests.post(url, headers=headers, data=adversarial_data)\n",
    "print(adversarial_response.content.decode(\"utf-8\") )\n"
   ]
  },
  {
   "cell_type": "code",
   "execution_count": 9,
   "metadata": {},
   "outputs": [
    {
     "name": "stdout",
     "output_type": "stream",
     "text": [
      "Time to apply manipulation: 0.0007257461547851562s\n",
      "Time to apply manipulation: 0.0s\n",
      "Time to apply manipulation: 0.0s\n",
      "Time to apply manipulation: 0.0s\n",
      "Time to apply manipulation: 0.0s\n",
      "Time to apply manipulation: 0.0s\n",
      "Time to apply manipulation: 0.0s\n",
      "Time to apply manipulation: 0.0s\n",
      "Time to apply manipulation: 0.0s\n",
      "Time to apply manipulation: 0.0s\n"
     ]
    }
   ],
   "source": [
    "### APPLY MANIPULATIONS TO ALL FILES\n",
    "\n",
    "onlyfiles = [f for f in listdir(input_folder) if isfile(join(input_folder, f))]\n",
    "\n",
    "for of in onlyfiles:\n",
    "    original_file = input_folder + of\n",
    "    output_file = output_folder + of\n",
    "\n",
    "    with open(original_file, \"r\", encoding=\"utf8\") as file:\n",
    "        # read html\n",
    "        in_html = file.read()\n",
    "\n",
    "        # apply manipulation\n",
    "        start_time = time.time()\n",
    "        out_html = websiteAttacks_html(in_html, string, num)\n",
    "        total_time = time.time() - start_time\n",
    "        print(\"Time to apply manipulation: {}s\".format(total_time))\n",
    "\n",
    "        # write adversarial html\n",
    "        with open(output_file, 'w', encoding=\"utf8\") as out: \n",
    "            out.write(out_html) "
   ]
  },
  {
   "cell_type": "code",
   "execution_count": 10,
   "metadata": {},
   "outputs": [
    {
     "name": "stdout",
     "output_type": "stream",
     "text": [
      "Time to apply manipulation: 0.0009984970092773438s\n",
      "{\n",
      "  \"n_models\": 8, \n",
      "  \"p_mod_00\": 0.196, \n",
      "  \"p_mod_01\": 0.766, \n",
      "  \"p_mod_02\": 0.196, \n",
      "  \"p_mod_03\": 0.766, \n",
      "  \"p_mod_04\": 0.864, \n",
      "  \"p_mod_05\": 0.774, \n",
      "  \"p_mod_06\": 0.794, \n",
      "  \"p_mod_07\": 0.741\n",
      "}\n",
      "\n"
     ]
    }
   ],
   "source": [
    "## Alternate options: more links\n",
    "\n",
    "webpage = \"03.html\"\n",
    "num = 280\n",
    "string = \"<a href='#' style='display:none'> can not see</a>\\n\" # this is the one used in our experiments\n",
    "\n",
    "original_file = input_folder + webpage\n",
    "\n",
    "\n",
    "with open(original_file, \"r\", encoding=\"utf8\") as file:\n",
    "    # read html\n",
    "    in_html = file.read()\n",
    "    \n",
    "    \n",
    "    # apply manipulation\n",
    "    start_time = time.time()\n",
    "    out_html = websiteAttacks_html(in_html, string, num)\n",
    "    total_time = time.time() - start_time\n",
    "    print(\"Time to apply manipulation: {}s\".format(total_time))\n",
    "    \n",
    "    # write adversarial html\n",
    "    alternate_output_file = output_folder + \"alternate_\" + webpage\n",
    "    with open(alternate_output_file, 'w', encoding=\"utf8\") as out: \n",
    "        out.write(out_html)\n",
    "        \n",
    "        \n",
    "with open(alternate_output_file, 'rb') as f:\n",
    "    adversarial_data = f.read()\n",
    "adversarial_response = requests.post(url, headers=headers, data=adversarial_data)\n",
    "print(adversarial_response.content.decode(\"utf-8\") )"
   ]
  },
  {
   "cell_type": "code",
   "execution_count": 11,
   "metadata": {},
   "outputs": [
    {
     "name": "stdout",
     "output_type": "stream",
     "text": [
      "Time to apply manipulation: 0.0011096000671386719s\n",
      "{\n",
      "  \"n_models\": 8, \n",
      "  \"p_mod_00\": 0.2, \n",
      "  \"p_mod_01\": 0.836, \n",
      "  \"p_mod_02\": 0.213, \n",
      "  \"p_mod_03\": 0.844, \n",
      "  \"p_mod_04\": 0.525, \n",
      "  \"p_mod_05\": 0.832, \n",
      "  \"p_mod_06\": 0.493, \n",
      "  \"p_mod_07\": 0.804\n",
      "}\n",
      "\n"
     ]
    }
   ],
   "source": [
    "## Alternate options: different string\n",
    "\n",
    "webpage = \"03.html\"\n",
    "num = 280\n",
    "string = '<a href=\"./fake-link-to-nonexisting-resource\"><font style=\"visibility:hidden\">Resource</font></a>'\n",
    "\n",
    "original_file = input_folder + webpage\n",
    "\n",
    "\n",
    "with open(original_file, \"r\", encoding=\"utf8\") as file:\n",
    "    # read html\n",
    "    in_html = file.read()\n",
    "    \n",
    "    \n",
    "    # apply manipulation\n",
    "    start_time = time.time()\n",
    "    out_html = websiteAttacks_html(in_html, string, num)\n",
    "    total_time = time.time() - start_time\n",
    "    print(\"Time to apply manipulation: {}s\".format(total_time))\n",
    "    \n",
    "    # write adversarial html\n",
    "    alternate_output_file = output_folder + \"alternate_\" + webpage\n",
    "    with open(alternate_output_file, 'w', encoding=\"utf8\") as out: \n",
    "        out.write(out_html)\n",
    "        \n",
    "        \n",
    "with open(alternate_output_file, 'rb') as f:\n",
    "    adversarial_data = f.read()\n",
    "adversarial_response = requests.post(url, headers=headers, data=adversarial_data)\n",
    "print(adversarial_response.content.decode(\"utf-8\") )"
   ]
  },
  {
   "cell_type": "code",
   "execution_count": 12,
   "metadata": {},
   "outputs": [
    {
     "name": "stdout",
     "output_type": "stream",
     "text": [
      "Time to apply manipulation: 0.0s\n",
      "{\n",
      "  \"n_models\": 8, \n",
      "  \"p_mod_00\": 0.537, \n",
      "  \"p_mod_01\": 0.673, \n",
      "  \"p_mod_02\": 0.537, \n",
      "  \"p_mod_03\": 0.673, \n",
      "  \"p_mod_04\": 0.598, \n",
      "  \"p_mod_05\": 0.746, \n",
      "  \"p_mod_06\": 0.46, \n",
      "  \"p_mod_07\": 0.563\n",
      "}\n",
      "\n"
     ]
    }
   ],
   "source": [
    "## Alternate options: different page\n",
    "\n",
    "webpage = \"04.html\"\n",
    "num = 50\n",
    "string = '<a href=\"./fake-link-to-nonexisting-resource\"><font style=\"visibility:hidden\">Resource</font></a>'\n",
    "\n",
    "original_file = input_folder + webpage\n",
    "\n",
    "\n",
    "with open(original_file, \"r\", encoding=\"utf8\") as file:\n",
    "    # read html\n",
    "    in_html = file.read()\n",
    "    \n",
    "    \n",
    "    # apply manipulation\n",
    "    start_time = time.time()\n",
    "    out_html = websiteAttacks_html(in_html, string, num)\n",
    "    total_time = time.time() - start_time\n",
    "    print(\"Time to apply manipulation: {}s\".format(total_time))\n",
    "    \n",
    "    # write adversarial html\n",
    "    alternate_output_file = output_folder + \"alternate_\" + webpage\n",
    "    with open(alternate_output_file, 'w', encoding=\"utf8\") as out: \n",
    "        out.write(out_html)\n",
    "        \n",
    "        \n",
    "with open(alternate_output_file, 'rb') as f:\n",
    "    adversarial_data = f.read()\n",
    "adversarial_response = requests.post(url, headers=headers, data=adversarial_data)\n",
    "print(adversarial_response.content.decode(\"utf-8\") )"
   ]
  },
  {
   "cell_type": "code",
   "execution_count": null,
   "metadata": {},
   "outputs": [],
   "source": []
  }
 ],
 "metadata": {
  "kernelspec": {
   "display_name": "Python 3 (ipykernel)",
   "language": "python",
   "name": "python3"
  },
  "language_info": {
   "codemirror_mode": {
    "name": "ipython",
    "version": 3
   },
   "file_extension": ".py",
   "mimetype": "text/x-python",
   "name": "python",
   "nbconvert_exporter": "python",
   "pygments_lexer": "ipython3",
   "version": "3.8.3"
  }
 },
 "nbformat": 4,
 "nbformat_minor": 4
}
